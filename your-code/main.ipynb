{
 "cells": [
  {
   "cell_type": "code",
   "execution_count": 69,
   "metadata": {},
   "outputs": [],
   "source": [
    "import pandas as pd\n",
    "import scipy.stats as st\n",
    "import numpy as np\n",
    "import seaborn as sns\n",
    "import matplotlib.pyplot as plt\n"
   ]
  },
  {
   "cell_type": "markdown",
   "metadata": {},
   "source": [
    "# Lab | Goodness of Fit and Independence Tests\n",
    "\n",
    "## Question 1\n",
    "A researcher gathers information about the patterns of Physical Activity of children in the fifth grade of primary school of a public school. He defines three categories of physical activity (Low, Medium, High). He also inquires about the regular consumption of sugary drinks at school, and defines two categories (Yes = consumed, No = not consumed). We would like to evaluate if there is an association between patterns of physical activity and the consumption of sugary drinks for the children of this school, at a level of 5% significance. The results are in the following table: \n",
    "\n",
    "![](https://education-team-2020.s3.eu-west-1.amazonaws.com/ds-ai/lab-goodness-of-fit/table4.png)"
   ]
  },
  {
   "cell_type": "code",
   "execution_count": 70,
   "metadata": {},
   "outputs": [
    {
     "data": {
      "text/html": [
       "<div>\n",
       "<style scoped>\n",
       "    .dataframe tbody tr th:only-of-type {\n",
       "        vertical-align: middle;\n",
       "    }\n",
       "\n",
       "    .dataframe tbody tr th {\n",
       "        vertical-align: top;\n",
       "    }\n",
       "\n",
       "    .dataframe thead th {\n",
       "        text-align: right;\n",
       "    }\n",
       "</style>\n",
       "<table border=\"1\" class=\"dataframe\">\n",
       "  <thead>\n",
       "    <tr style=\"text-align: right;\">\n",
       "      <th></th>\n",
       "      <th>Physical Activity</th>\n",
       "      <th>Sugary Drinks (Yes)</th>\n",
       "      <th>Sugary Drinks (No)</th>\n",
       "      <th>Total</th>\n",
       "    </tr>\n",
       "  </thead>\n",
       "  <tbody>\n",
       "    <tr>\n",
       "      <th>0</th>\n",
       "      <td>Low</td>\n",
       "      <td>32</td>\n",
       "      <td>12</td>\n",
       "      <td>44</td>\n",
       "    </tr>\n",
       "    <tr>\n",
       "      <th>1</th>\n",
       "      <td>Medium</td>\n",
       "      <td>14</td>\n",
       "      <td>22</td>\n",
       "      <td>36</td>\n",
       "    </tr>\n",
       "    <tr>\n",
       "      <th>2</th>\n",
       "      <td>High</td>\n",
       "      <td>6</td>\n",
       "      <td>9</td>\n",
       "      <td>15</td>\n",
       "    </tr>\n",
       "    <tr>\n",
       "      <th>3</th>\n",
       "      <td>Total</td>\n",
       "      <td>52</td>\n",
       "      <td>43</td>\n",
       "      <td>95</td>\n",
       "    </tr>\n",
       "  </tbody>\n",
       "</table>\n",
       "</div>"
      ],
      "text/plain": [
       "  Physical Activity Sugary Drinks (Yes) Sugary Drinks (No) Total\n",
       "0               Low                  32                 12    44\n",
       "1            Medium                  14                 22    36\n",
       "2              High                   6                  9    15\n",
       "3             Total                  52                 43    95"
      ]
     },
     "execution_count": 70,
     "metadata": {},
     "output_type": "execute_result"
    }
   ],
   "source": [
    "# your answer here\n",
    "data = {\n",
    "    'Physical Activity': ['Low', 'Medium', 'High'],\n",
    "    'Sugary Drinks (Yes)': [32, 14, 6],\n",
    "    'Sugary Drinks (No)': [12, 22, 9]\n",
    "}\n",
    "\n",
    "df = pd.DataFrame(data)\n",
    "df['Total'] = df['Sugary Drinks (Yes)'] + df['Sugary Drinks (No)']\n",
    "\n",
    "vertical_totals = df[['Sugary Drinks (Yes)', 'Sugary Drinks (No)', 'Total']].sum()\n",
    "vertical_totals['Physical Activity'] = 'Total'\n",
    "vertical_totals_df = pd.DataFrame(vertical_totals).T\n",
    "df = pd.concat([df, vertical_totals_df], ignore_index=True)\n",
    "\n",
    "df"
   ]
  },
  {
   "cell_type": "code",
   "execution_count": 71,
   "metadata": {},
   "outputs": [
    {
     "data": {
      "text/html": [
       "<div>\n",
       "<style scoped>\n",
       "    .dataframe tbody tr th:only-of-type {\n",
       "        vertical-align: middle;\n",
       "    }\n",
       "\n",
       "    .dataframe tbody tr th {\n",
       "        vertical-align: top;\n",
       "    }\n",
       "\n",
       "    .dataframe thead th {\n",
       "        text-align: right;\n",
       "    }\n",
       "</style>\n",
       "<table border=\"1\" class=\"dataframe\">\n",
       "  <thead>\n",
       "    <tr style=\"text-align: right;\">\n",
       "      <th></th>\n",
       "      <th>Yes</th>\n",
       "      <th>No</th>\n",
       "    </tr>\n",
       "  </thead>\n",
       "  <tbody>\n",
       "    <tr>\n",
       "      <th>Low</th>\n",
       "      <td>32</td>\n",
       "      <td>12</td>\n",
       "    </tr>\n",
       "    <tr>\n",
       "      <th>Medium</th>\n",
       "      <td>14</td>\n",
       "      <td>22</td>\n",
       "    </tr>\n",
       "    <tr>\n",
       "      <th>High</th>\n",
       "      <td>6</td>\n",
       "      <td>9</td>\n",
       "    </tr>\n",
       "  </tbody>\n",
       "</table>\n",
       "</div>"
      ],
      "text/plain": [
       "        Yes  No\n",
       "Low      32  12\n",
       "Medium   14  22\n",
       "High      6   9"
      ]
     },
     "execution_count": 71,
     "metadata": {},
     "output_type": "execute_result"
    }
   ],
   "source": [
    "data = [\n",
    "    [32, 12],\n",
    "    [14, 22],\n",
    "    [6, 9]\n",
    "]\n",
    "df = pd.DataFrame(data)\n",
    "df.index = [\"Low\", \"Medium\", \"High\"]\n",
    "df.columns = [\"Yes\", \"No\"]\n",
    "df"
   ]
  },
  {
   "cell_type": "code",
   "execution_count": 72,
   "metadata": {},
   "outputs": [
    {
     "name": "stdout",
     "output_type": "stream",
     "text": [
      "pvalue: 0.004719280137040844\n"
     ]
    },
    {
     "data": {
      "text/html": [
       "<div>\n",
       "<style scoped>\n",
       "    .dataframe tbody tr th:only-of-type {\n",
       "        vertical-align: middle;\n",
       "    }\n",
       "\n",
       "    .dataframe tbody tr th {\n",
       "        vertical-align: top;\n",
       "    }\n",
       "\n",
       "    .dataframe thead th {\n",
       "        text-align: right;\n",
       "    }\n",
       "</style>\n",
       "<table border=\"1\" class=\"dataframe\">\n",
       "  <thead>\n",
       "    <tr style=\"text-align: right;\">\n",
       "      <th></th>\n",
       "      <th>Yes</th>\n",
       "      <th>No</th>\n",
       "    </tr>\n",
       "  </thead>\n",
       "  <tbody>\n",
       "    <tr>\n",
       "      <th>Low</th>\n",
       "      <td>24.084211</td>\n",
       "      <td>19.915789</td>\n",
       "    </tr>\n",
       "    <tr>\n",
       "      <th>Medium</th>\n",
       "      <td>19.705263</td>\n",
       "      <td>16.294737</td>\n",
       "    </tr>\n",
       "    <tr>\n",
       "      <th>High</th>\n",
       "      <td>8.210526</td>\n",
       "      <td>6.789474</td>\n",
       "    </tr>\n",
       "  </tbody>\n",
       "</table>\n",
       "</div>"
      ],
      "text/plain": [
       "              Yes         No\n",
       "Low     24.084211  19.915789\n",
       "Medium  19.705263  16.294737\n",
       "High     8.210526   6.789474"
      ]
     },
     "execution_count": 72,
     "metadata": {},
     "output_type": "execute_result"
    }
   ],
   "source": [
    "statistic, pvalue, dof, expected_freq = st.chi2_contingency(np.array(df))\n",
    "df_expected = pd.DataFrame(expected_freq)\n",
    "print(f\"pvalue: {pvalue}\")\n",
    "\n",
    "df_expected.index = [\"Low\", \"Medium\", \"High\"]\n",
    "df_expected.columns = [\"Yes\", \"No\"]\n",
    "df_expected"
   ]
  },
  {
   "cell_type": "code",
   "execution_count": 73,
   "metadata": {},
   "outputs": [],
   "source": [
    "# The p-value is 0.0047, which is less than the conventional threshold of 0.05.  This means there is a statistically significant association between physical activity level and sugary drink consumption.\n",
    "# The likelihood that the observed differences happened by random chance is very low — we reject the null hypothesis of independence."
   ]
  },
  {
   "cell_type": "code",
   "execution_count": 74,
   "metadata": {},
   "outputs": [
    {
     "data": {
      "image/png": "[encoded data removed]",
      "text/plain": [
       "<Figure size 600x500 with 2 Axes>"
      ]
     },
     "metadata": {},
     "output_type": "display_data"
    }
   ],
   "source": [
    "chi2_contrib = (df - df_expected) ** 2 / df_expected\n",
    "\n",
    "# Plot heatmap of chi-squared contributions\n",
    "plt.figure(figsize=(6, 5))\n",
    "sns.heatmap(chi2_contrib, annot=True, fmt=\".2f\", cmap=\"OrRd\", cbar_kws={'label': 'Chi-squared Contribution'})\n",
    "plt.title(\"Chi-squared Contributions\")\n",
    "plt.xlabel(\"Sugary Drinks\")\n",
    "plt.ylabel(\"Physical Activity\")\n",
    "plt.tight_layout()\n",
    "plt.show()"
   ]
  },
  {
   "cell_type": "markdown",
   "metadata": {},
   "source": [
    "## [OPTIONAL] Question 2\n",
    "The following table indicates the number of 6-point scores in an American rugby match in the 1979 season.\n",
    "\n",
    "![](https://education-team-2020.s3.eu-west-1.amazonaws.com/ds-ai/lab-goodness-of-fit/table1.png)\n",
    "\n",
    "Based on these results, we create a Poisson distribution with the sample mean parameter  = 2.435. Is there any reason to believe that at a .05 level the number of scores is a Poisson variable?\n",
    "\n",
    "Check [here](https://www.geeksforgeeks.org/how-to-create-a-poisson-probability-mass-function-plot-in-python/) how to create a poisson distribution and how to calculate the expected observations, using the probability mass function (pmf). \n",
    "A Poisson distribution is a discrete probability distribution. It gives the probability of an event happening a certain number of times (k) within a given interval of time or space. The Poisson distribution has only one parameter, λ (lambda), which is the mean number of events."
   ]
  },
  {
   "cell_type": "code",
   "execution_count": 84,
   "metadata": {},
   "outputs": [
    {
     "name": "stdout",
     "output_type": "stream",
     "text": [
      "Observed frequencies (grouped): [ 35  99 104 110  62  25  10   3]\n",
      "Expected frequencies (grouped): [ 39.24  95.56 116.34  94.43  57.49  28.    11.36   5.58]\n"
     ]
    },
    {
     "data": {
      "image/png": "[encoded data removed]",
      "text/plain": [
       "<Figure size 640x480 with 1 Axes>"
      ]
     },
     "metadata": {},
     "output_type": "display_data"
    },
    {
     "name": "stdout",
     "output_type": "stream",
     "text": [
      "\n",
      "Chi-square components by group: [0.459 0.124 1.309 2.567 0.355 0.32  0.163 1.194]\n",
      "Chi-square statistic: 6.491\n",
      "Degrees of Freedom: 6\n",
      "p-value: 0.370\n",
      "\n",
      "At the 0.05 significance level, we fail to reject the null hypothesis.\n",
      "There is no evidence to suggest that the observed scores differ from the Poisson model.\n"
     ]
    }
   ],
   "source": [
    "import numpy as np\n",
    "import matplotlib.pyplot as plt\n",
    "from scipy.stats import poisson, chi2\n",
    "\n",
    "# Observed frequencies from the data\n",
    "observed = {\n",
    "    '0': 35,\n",
    "    '1': 99,\n",
    "    '2': 104,\n",
    "    '3': 110,\n",
    "    '4': 62,\n",
    "    '5': 25,\n",
    "    '6': 10,\n",
    "    '>=7': 3  \n",
    "}\n",
    "# Order: 0, 1, 2, 3, 4, 5, 6, >=7\n",
    "obs_values = np.array([\n",
    "    observed['0'],\n",
    "    observed['1'],\n",
    "    observed['2'],\n",
    "    observed['3'],\n",
    "    observed['4'],\n",
    "    observed['5'],\n",
    "    observed['6'],\n",
    "    observed['>=7']\n",
    "])\n",
    "N = 448  # total number of matches\n",
    "lam = 2.435  # estimated Poisson parameter\n",
    "\n",
    "# Expected frequencies for k = 0 to 6 calculated individually:\n",
    "expected_probs = [poisson.pmf(k, lam) for k in range(7)]\n",
    "expected_counts = np.array(expected_probs) * N\n",
    "\n",
    "# For k >= 7, compute the tail probability:\n",
    "tail_prob_final = 1 - poisson.cdf(6, lam)\n",
    "expected_tail_final = tail_prob_final * N\n",
    "\n",
    "# Combine expected frequencies in an array with 8 groups:\n",
    "expected_grouped = np.append(expected_counts, expected_tail_final)\n",
    "\n",
    "print(\"Observed frequencies (grouped):\", obs_values)\n",
    "print(\"Expected frequencies (grouped):\", np.round(expected_grouped, 2))\n",
    "\n",
    "# Optional: Plot the Poisson pmf\n",
    "k_values = np.arange(0, 11)\n",
    "pmf_values = poisson.pmf(k_values, lam)\n",
    "plt.stem(k_values, pmf_values, basefmt=\" \")\n",
    "plt.xlabel(\"Number of Scores\")\n",
    "plt.ylabel(\"Probability\")\n",
    "plt.title(\"Poisson PMF (λ = {:.3f})\".format(lam))\n",
    "plt.show()\n",
    "\n",
    "# Chi-square goodness-of-fit test\n",
    "chi_sq_components = (obs_values - expected_grouped)**2 / expected_grouped\n",
    "chi_sq_stat = np.sum(chi_sq_components)\n",
    "df = len(obs_values) - 1 - 1  # groups - 1 - number of estimated parameters\n",
    "p_value = 1 - chi2.cdf(chi_sq_stat, df)\n",
    "\n",
    "print(\"\\nChi-square components by group:\", np.round(chi_sq_components, 3))\n",
    "print(\"Chi-square statistic: {:.3f}\".format(chi_sq_stat))\n",
    "print(\"Degrees of Freedom: {}\".format(df))\n",
    "print(\"p-value: {:.3f}\".format(p_value))\n",
    "\n",
    "alpha = 0.05\n",
    "if p_value > alpha:\n",
    "    print(\"\\nAt the 0.05 significance level, we fail to reject the null hypothesis.\")\n",
    "    print(\"There is no evidence to suggest that the observed scores differ from the Poisson model.\")\n",
    "else:\n",
    "    print(\"\\nAt the 0.05 significance level, we reject the null hypothesis.\")\n",
    "    print(\"The observed scores significantly differ from the Poisson model.\")\n"
   ]
  }
 ],
 "metadata": {
  "kernelspec": {
   "display_name": "Python 3",
   "language": "python",
   "name": "python3"
  },
  "language_info": {
   "codemirror_mode": {
    "name": "ipython",
    "version": 3
   },
   "file_extension": ".py",
   "mimetype": "text/x-python",
   "name": "python",
   "nbconvert_exporter": "python",
   "pygments_lexer": "ipython3",
   "version": "3.9.6"
  }
 },
 "nbformat": 4,
 "nbformat_minor": 2
}
